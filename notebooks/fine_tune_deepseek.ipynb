{
 "cells": [
  {
   "cell_type": "code",
   "execution_count": null,
   "metadata": {},
   "outputs": [],
   "source": [
    "from deepseek_api import DeepSeekFineTuner\n",
    "import pandas as pd\n",
    "\n",
    "# Load dataset\n",
    "df = pd.read_csv(\"data/outreach_messages.csv\")\n",
    "\n",
    "# Initialize fine-tuner\n",
    "fine_tuner = DeepSeekFineTuner(api_key=\"your_api_key\")\n",
    "\n",
    "# Prepare training data\n",
    "training_data = [\n",
    "    {\"prompt\": f\"Write a personalized message to {row['prospect_name']} at {row['company']}:\", \"completion\": row[\"message\"]}\n",
    "    for _, row in df.iterrows()\n",
    "]\n",
    "\n",
    "# Start fine-tuning\n",
    "model_id = fine_tuner.fine_tune(training_data, model=\"deepseek-r1\")\n",
    "print(f\"Fine-tuned model ID: {model_id}\")"
   ]
  }
 ],
 "metadata": {
  "language_info": {
   "name": "python"
  }
 },
 "nbformat": 4,
 "nbformat_minor": 2
}
